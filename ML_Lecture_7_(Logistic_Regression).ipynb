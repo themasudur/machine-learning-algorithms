{
  "nbformat": 4,
  "nbformat_minor": 0,
  "metadata": {
    "colab": {
      "name": "ML Lecture 7 (Logistic Regression).ipynb",
      "provenance": [],
      "collapsed_sections": [],
      "toc_visible": true,
      "authorship_tag": "ABX9TyMMc7UA5myc9i2J52ISCgfB",
      "include_colab_link": true
    },
    "kernelspec": {
      "name": "python3",
      "display_name": "Python 3"
    }
  },
  "cells": [
    {
      "cell_type": "markdown",
      "metadata": {
        "id": "view-in-github",
        "colab_type": "text"
      },
      "source": [
        "<a href=\"https://colab.research.google.com/github/themasudur/machine-learning-algorithms/blob/main/ML_Lecture_7_(Logistic_Regression).ipynb\" target=\"_parent\"><img src=\"https://colab.research.google.com/assets/colab-badge.svg\" alt=\"Open In Colab\"/></a>"
      ]
    },
    {
      "cell_type": "markdown",
      "metadata": {
        "id": "Yksp7xjvZ9WV"
      },
      "source": [
        "#নানা রকমের রিগ্রেশান\n",
        "আমরা লিনিয়ার রিগ্রেশান দেখেছি। এ ছাড়াও আরো নানান রকমের রিগ্রেশান আছে। সাইকিট লার্ন লাইব্রেরিতে কী কী ধরণের রিগ্রেশান আছে সেসবের তালিকা দেখে নিই-  "
      ]
    },
    {
      "cell_type": "code",
      "metadata": {
        "id": "aD0NGFYmrAFt",
        "colab": {
          "base_uri": "https://localhost:8080/"
        },
        "outputId": "97a259b6-71e0-4498-a35c-8885b3bba59a"
      },
      "source": [
        "import sklearn\n",
        "dir(sklearn.linear_model)"
      ],
      "execution_count": null,
      "outputs": [
        {
          "output_type": "execute_result",
          "data": {
            "text/plain": [
              "['ARDRegression',\n",
              " 'BayesianRidge',\n",
              " 'ElasticNet',\n",
              " 'ElasticNetCV',\n",
              " 'Hinge',\n",
              " 'Huber',\n",
              " 'HuberRegressor',\n",
              " 'Lars',\n",
              " 'LarsCV',\n",
              " 'Lasso',\n",
              " 'LassoCV',\n",
              " 'LassoLars',\n",
              " 'LassoLarsCV',\n",
              " 'LassoLarsIC',\n",
              " 'LinearRegression',\n",
              " 'Log',\n",
              " 'LogisticRegression',\n",
              " 'LogisticRegressionCV',\n",
              " 'ModifiedHuber',\n",
              " 'MultiTaskElasticNet',\n",
              " 'MultiTaskElasticNetCV',\n",
              " 'MultiTaskLasso',\n",
              " 'MultiTaskLassoCV',\n",
              " 'OrthogonalMatchingPursuit',\n",
              " 'OrthogonalMatchingPursuitCV',\n",
              " 'PassiveAggressiveClassifier',\n",
              " 'PassiveAggressiveRegressor',\n",
              " 'Perceptron',\n",
              " 'RANSACRegressor',\n",
              " 'Ridge',\n",
              " 'RidgeCV',\n",
              " 'RidgeClassifier',\n",
              " 'RidgeClassifierCV',\n",
              " 'SGDClassifier',\n",
              " 'SGDRegressor',\n",
              " 'SquaredLoss',\n",
              " 'TheilSenRegressor',\n",
              " '__all__',\n",
              " '__builtins__',\n",
              " '__cached__',\n",
              " '__doc__',\n",
              " '__file__',\n",
              " '__loader__',\n",
              " '__name__',\n",
              " '__package__',\n",
              " '__path__',\n",
              " '__spec__',\n",
              " '_base',\n",
              " '_bayes',\n",
              " '_cd_fast',\n",
              " '_coordinate_descent',\n",
              " '_huber',\n",
              " '_least_angle',\n",
              " '_logistic',\n",
              " '_omp',\n",
              " '_passive_aggressive',\n",
              " '_perceptron',\n",
              " '_ransac',\n",
              " '_ridge',\n",
              " '_sag',\n",
              " '_sag_fast',\n",
              " '_sgd_fast',\n",
              " '_stochastic_gradient',\n",
              " '_theil_sen',\n",
              " 'enet_path',\n",
              " 'lars_path',\n",
              " 'lars_path_gram',\n",
              " 'lasso_path',\n",
              " 'logistic_regression_path',\n",
              " 'orthogonal_mp',\n",
              " 'orthogonal_mp_gram',\n",
              " 'ridge_regression']"
            ]
          },
          "metadata": {
            "tags": []
          },
          "execution_count": 110
        }
      ]
    },
    {
      "cell_type": "markdown",
      "metadata": {
        "id": "6pX-k5YgaZcu"
      },
      "source": [
        "এখানে ভেঙ্গে ভেঙ্গে লিনিয়ার রিগ্রেশান দেখানো হয়েছে- \n",
        "\n",
        "লিনিয়ার রিগ্রেশান এর অন্য নাম-  \n",
        "* Ordinary least squares (OLS) বা Linear least squares"
      ]
    },
    {
      "cell_type": "code",
      "metadata": {
        "id": "0MsHv0MQLAo5",
        "colab": {
          "base_uri": "https://localhost:8080/",
          "height": 737
        },
        "outputId": "e7d47792-f99b-4d42-b623-a5285ec1cebf"
      },
      "source": [
        "import numpy as np\n",
        "import matplotlib.pyplot as plt\n",
        "\n",
        "#Xdata = np.array([4747, 3738])\n",
        "#ydata = np.array([1635, 1297])\n",
        "Xdata = np.array([4747, 3738, 4208])\n",
        "ydata = np.array([1635, 1297, 1522])\n",
        "\n",
        "print('Traing data: ', Xdata, ydata)\n",
        "\n",
        "from sklearn.linear_model import LinearRegression\n",
        "\n",
        "lin_reg = LinearRegression().fit(Xdata.reshape(-1, 1), ydata)\n",
        "print('\\nSlope = ' + str(lin_reg.coef_) + '\\nIntercept = ' + str(lin_reg.intercept_))\n",
        "\n",
        "testX = np.array([3876, 4424])\n",
        "testy = np.array([1405, 1400])\n",
        "predic = lin_reg.predict(testX.reshape(-1, 1))\n",
        "print('\\nPrediction: ', testy, predic)\n",
        "print('\\n')\n",
        "plt.figure(figsize=(10,10))\n",
        "\n",
        "plt.scatter(Xdata, ydata, c='b') # Training data\n",
        "for xi, yi in zip(Xdata, ydata):\n",
        "  plt.text(xi, yi, 'Train ({}, {})'.format(xi, yi))\n",
        "plt.plot(Xdata, lin_reg.predict(Xdata.reshape(-1, 1)), c='c')\n",
        "\n",
        "plt.scatter(testX, testy, c='y') # Test data\n",
        "for xi, yi in zip(testX, testy):\n",
        "  plt.text(xi, yi, 'Test ({}, {})'.format(xi, yi))\n",
        "\n",
        "plt.scatter(testX, predic, c='r') # Prediction\n",
        "for xi, yi in zip(testX, predic):\n",
        "  plt.text(xi, yi, 'Predict ({}, {})'.format(xi, yi))\n",
        "\n",
        "plt.show()"
      ],
      "execution_count": null,
      "outputs": [
        {
          "output_type": "stream",
          "text": [
            "Traing data:  [4747 3738 4208] [1635 1297 1522]\n",
            "\n",
            "Slope = [0.33193745]\n",
            "Intercept = 80.23929815063934\n",
            "\n",
            "Prediction:  [1405 1400] [1366.82887044 1548.73059532]\n",
            "\n",
            "\n"
          ],
          "name": "stdout"
        },
        {
          "output_type": "display_data",
          "data": {
            "image/png": "[encoded data removed]",
            "text/plain": [
              "<Figure size 720x720 with 1 Axes>"
            ]
          },
          "metadata": {
            "tags": [],
            "needs_background": "light"
          }
        }
      ]
    },
    {
      "cell_type": "markdown",
      "metadata": {
        "id": "Ils1ovZKamEo"
      },
      "source": [
        "গাণিতিক সমীকরণ হিসেবে দেখি- "
      ]
    },
    {
      "cell_type": "code",
      "metadata": {
        "id": "LMEubMjoZGFm",
        "colab": {
          "base_uri": "https://localhost:8080/"
        },
        "outputId": "4ac12353-d8ac-4c0a-9f80-d67aa6efb540"
      },
      "source": [
        "# Interestingly, \n",
        "Slope = 0.33193745\n",
        "Intercept = 80.23929815063934\n",
        "\n",
        "y = Slope*3876 + Intercept\n",
        "y"
      ],
      "execution_count": null,
      "outputs": [
        {
          "output_type": "execute_result",
          "data": {
            "text/plain": [
              "1366.8288543506394"
            ]
          },
          "metadata": {
            "tags": []
          },
          "execution_count": 112
        }
      ]
    },
    {
      "cell_type": "markdown",
      "metadata": {
        "id": "8wLZIrGEatG2"
      },
      "source": [
        "1. লিনিয়ার রিগ্রেশান\n",
        "3. রিজ রিগ্রেশান\n",
        "3. পলিনোমিয়াল রিগ্রেশান\n",
        "4. সাপোর্ট ভেক্টর রিগ্রেশান (এস ভি আর)\n",
        "5. লজিস্টিক রিগ্রেশান\n",
        "\n"
      ]
    },
    {
      "cell_type": "markdown",
      "metadata": {
        "id": "8C3UU7C9rp4L"
      },
      "source": [
        "#রিজ রিগ্রেশান\n",
        "\n",
        "Loss function = OLS + alpha * summation (squared coefficient values)\n",
        "\n",
        "কখন লাগে? \n",
        "* যখন ফিচার সংখ্যা, অবজারবেশান সংখ্যার চেয়ে বেশি\n",
        "\n",
        "* গুরুত্বপূর্ণ ফিচারগুলো আলাদা করতে হবে\n"
      ]
    },
    {
      "cell_type": "code",
      "metadata": {
        "colab": {
          "base_uri": "https://localhost:8080/"
        },
        "id": "0u02AnURGlq-",
        "outputId": "fe8134a1-0c6f-44de-c285-2449fcbf6fdf"
      },
      "source": [
        "from pandas import read_csv\n",
        "import numpy as np\n",
        "from sklearn.model_selection import train_test_split\n",
        "\n",
        "from sklearn.linear_model import Ridge\n",
        "\n",
        "from sklearn.metrics import r2_score\n",
        "from sklearn.metrics import mean_squared_error\n",
        "\n",
        "# Boston Housing Data set:\n",
        "link = \"https://raw.githubusercontent.com/selva86/datasets/master/BostonHousing.csv\"\n",
        "\n",
        "df = read_csv(link, header=0) # O no. row includes header\n",
        "print(df)\n",
        "print(df.describe())\n",
        "\n",
        "target = ['medv']\n",
        "features = list(set(list(df.columns))-set(target))\n",
        "\n",
        "X = df[features].values\n",
        "y = df[target].values\n",
        "\n",
        "X_train, X_test, y_train, y_test = train_test_split(X, y, test_size=0.30, random_state=10)\n",
        "print(X_train.shape); print(X_test.shape)\n",
        "\n",
        "ridge = Ridge(alpha=0.01)\n",
        "ridge.fit(X_train, y_train)\n",
        "\n",
        "print('Coefficients: ', ridge.coef_)\n",
        "print('y-intercepts: ', ridge.intercept_)\n",
        "\n",
        "pred_train = ridge.predict(X_train)\n",
        "print('Training r^2: ', r2_score(y_train, pred_train))\n",
        "print('Training MSE: ', mean_squared_error(y_train, pred_train))\n",
        "\n",
        "pred_test = ridge.predict(X_test)\n",
        "print('Test r^2: ', r2_score(y_test, pred_test))\n",
        "print('Test MSE: ', mean_squared_error(y_test, pred_test))"
      ],
      "execution_count": null,
      "outputs": [
        {
          "output_type": "stream",
          "text": [
            "        crim    zn  indus  chas    nox  ...  tax  ptratio       b  lstat  medv\n",
            "0    0.00632  18.0   2.31     0  0.538  ...  296     15.3  396.90   4.98  24.0\n",
            "1    0.02731   0.0   7.07     0  0.469  ...  242     17.8  396.90   9.14  21.6\n",
            "2    0.02729   0.0   7.07     0  0.469  ...  242     17.8  392.83   4.03  34.7\n",
            "3    0.03237   0.0   2.18     0  0.458  ...  222     18.7  394.63   2.94  33.4\n",
            "4    0.06905   0.0   2.18     0  0.458  ...  222     18.7  396.90   5.33  36.2\n",
            "..       ...   ...    ...   ...    ...  ...  ...      ...     ...    ...   ...\n",
            "501  0.06263   0.0  11.93     0  0.573  ...  273     21.0  391.99   9.67  22.4\n",
            "502  0.04527   0.0  11.93     0  0.573  ...  273     21.0  396.90   9.08  20.6\n",
            "503  0.06076   0.0  11.93     0  0.573  ...  273     21.0  396.90   5.64  23.9\n",
            "504  0.10959   0.0  11.93     0  0.573  ...  273     21.0  393.45   6.48  22.0\n",
            "505  0.04741   0.0  11.93     0  0.573  ...  273     21.0  396.90   7.88  11.9\n",
            "\n",
            "[506 rows x 14 columns]\n",
            "             crim          zn       indus  ...           b       lstat        medv\n",
            "count  506.000000  506.000000  506.000000  ...  506.000000  506.000000  506.000000\n",
            "mean     3.613524   11.363636   11.136779  ...  356.674032   12.653063   22.532806\n",
            "std      8.601545   23.322453    6.860353  ...   91.294864    7.141062    9.197104\n",
            "min      0.006320    0.000000    0.460000  ...    0.320000    1.730000    5.000000\n",
            "25%      0.082045    0.000000    5.190000  ...  375.377500    6.950000   17.025000\n",
            "50%      0.256510    0.000000    9.690000  ...  391.440000   11.360000   21.200000\n",
            "75%      3.677082   12.500000   18.100000  ...  396.225000   16.955000   25.000000\n",
            "max     88.976200  100.000000   27.740000  ...  396.900000   37.970000   50.000000\n",
            "\n",
            "[8 rows x 14 columns]\n",
            "(354, 13)\n",
            "(152, 13)\n",
            "Coefficients:  [[-5.45033002e-01 -1.54591597e+00 -1.51607779e+01 -2.47683870e-02\n",
            "  -8.09979349e-01  1.29583425e-02  1.11965310e-02  1.62055375e+00\n",
            "   3.35327612e+00  6.50340116e-02 -1.53695647e-01  3.02281243e-01\n",
            "  -1.22404258e-02]]\n",
            "y-intercepts:  [34.14285688]\n",
            "Training r^2:  0.7495392952061759\n",
            "Training MSE:  19.45973980535476\n",
            "Test r^2:  0.6995549781281719\n",
            "Test MSE:  29.33348936792762\n"
          ],
          "name": "stdout"
        }
      ]
    },
    {
      "cell_type": "markdown",
      "metadata": {
        "id": "tAuIcGKCeyIP"
      },
      "source": [
        "#পলিনোমিয়াল রিগ্রেশান\n",
        "\n",
        "* নন লিনিয়ার রিগ্রেশান\n",
        "* এই রিগ্রেশান অনেকটাই এঁকে বেঁকে চলে। \n",
        "* আউটলায়ার নিয়ে বিপদে পড়তে হয়।"
      ]
    },
    {
      "cell_type": "markdown",
      "metadata": {
        "id": "RFXPGdfSf-xi"
      },
      "source": [
        "#সাপোর্ট ভেক্টর রিগ্রেশান (এস ভি আর)\n",
        "\n",
        "Support Vector regression is a type of Support vector machine that supports linear and non-linear regression. \n",
        "\n",
        "![SVR_1.png](data:image/png;base64,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)\n",
        "\n",
        "SVM is more effective in high dimensional spaces.\n",
        "SVM is effective in cases where the number of dimensions is greater than the number of samples.\n",
        "\n",
        "\n",
        "SVM algorithm is not suitable for large data sets.\n"
      ]
    },
    {
      "cell_type": "code",
      "metadata": {
        "id": "j0q_-vmBug0k",
        "colab": {
          "base_uri": "https://localhost:8080/",
          "height": 792
        },
        "outputId": "c208b989-2b0d-480f-cc95-414c8d46b410"
      },
      "source": [
        "import numpy as np\n",
        "import matplotlib.pyplot as plt\n",
        "import pandas as pd\n",
        "\n",
        "Xdata = np.array([4747, 3738, 4208])\n",
        "ydata = np.array([1635, 1297, 1522])\n",
        "\n",
        "print(Xdata, ydata)\n",
        "\n",
        "from sklearn.preprocessing import StandardScaler\n",
        "sc_X = StandardScaler()\n",
        "sc_y = StandardScaler()\n",
        "Xdata = sc_X.fit_transform(Xdata.reshape(-1,1))\n",
        "ydata = sc_y.fit_transform(ydata.reshape(-1,1))\n",
        "\n",
        "print('Scaled training: ', Xdata, ydata)\n",
        "\n",
        "from sklearn.svm import SVR\n",
        "regressor = SVR(kernel = 'rbf')\n",
        "regressor.fit(Xdata, ydata.ravel())\n",
        "\n",
        "testX = np.array([3876, 4424])\n",
        "testy = np.array([1405, 1200])\n",
        "\n",
        "print('Test: ', testX, testy)\n",
        "\n",
        "predicScaled = regressor.predict(testX.reshape(-1,1))\n",
        "print('Scaled predicted: ', predicScaled)\n",
        "predic = sc_y.inverse_transform(predicScaled) \n",
        "print('Predicted: ', predic)\n",
        "\n",
        "print('\\n')\n",
        "plt.figure(figsize=(10,10))\n",
        "\n",
        "X_grid = np.arange(min(Xdata), max(Xdata), 0.01) \n",
        "X_grid = X_grid.reshape((len(X_grid), 1))\n",
        "plt.scatter(Xdata, ydata, c='b') # Training data\n",
        "for xi, yi in zip(Xdata, ydata):\n",
        "  plt.text(xi, yi, 'Train ({}, {})'.format(xi, yi))\n",
        "plt.plot(X_grid, regressor.predict(X_grid), color = 'c')\n",
        "plt.show()"
      ],
      "execution_count": null,
      "outputs": [
        {
          "output_type": "stream",
          "text": [
            "[4747 3738 4208] [1635 1297 1522]\n",
            "Scaled training:  [[ 1.25168755]\n",
            " [-1.19589527]\n",
            " [-0.05579227]] [[ 1.07006117]\n",
            " [-1.33579698]\n",
            " [ 0.26573581]]\n",
            "Test:  [3876 4424] [1405 1200]\n",
            "Scaled predicted:  [0.11496009 0.11496009]\n",
            "Predicted:  [1500.81745687 1500.81745687]\n",
            "\n",
            "\n"
          ],
          "name": "stdout"
        },
        {
          "output_type": "display_data",
          "data": {
            "image/png": "[encoded data removed]",
            "text/plain": [
              "<Figure size 720x720 with 1 Axes>"
            ]
          },
          "metadata": {
            "tags": [],
            "needs_background": "light"
          }
        }
      ]
    },
    {
      "cell_type": "markdown",
      "metadata": {
        "id": "Ngwe0DH1IW_l"
      },
      "source": [
        "**Task:** Explore: `sklearn.svm.LinearSVC`"
      ]
    },
    {
      "cell_type": "markdown",
      "metadata": {
        "id": "CjxclCxX1KXX"
      },
      "source": [
        "কখন কোন রিগ্রেশান- \n",
        "\n",
        "বিবেচনায় বিষয়: \n",
        "* লিনিয়ারিটি => এস ভি আর (works well on both)\n",
        "* ফিচার সংখ্যা, স্যাম্পল সংখ্যা => রিজ/এস ভি আর\n",
        "* আউটলায়ার আছে??? => কখনোই লিনিয়ার নয়\n",
        "* ইম্পোর্টেন্ট ভেরিয়েবল কোনগুলো? => রিজ\n",
        "* ডেটা নিউমেরিক নয়- লজিস্টিক রিগ্রেশান\n",
        "\n",
        "https://statisticsbyjim.com/regression/choosing-regression-analysis/\n",
        "\n",
        "\n",
        "আরো জানতে-\n",
        "\n",
        "https://scikit-learn.org/stable/modules/linear_model.html\n",
        "\n",
        "---\n",
        "**Task:**\n",
        "Make your own code to compare various types of regression analysis. \n",
        "\n",
        "---"
      ]
    },
    {
      "cell_type": "markdown",
      "metadata": {
        "id": "jGesU7wT4g_m"
      },
      "source": [
        "#লজিস্টিক রিগ্রেশান\n",
        "\n",
        "লিনিয়ার রিগ্রেশানের জন্য, \n",
        "\n",
        "$z = β_0 + β_1x$\n",
        "\n",
        "লজিস্টিক রিগ্রেশানের জন্য, \n",
        "\n",
        "$h(x)=sigmoid(z)$\n",
        "\n",
        "$h(x)=\\frac{1}{1 + e^{-(β_0 + β_1x)}}$\n",
        "\n",
        "$f(x)=\\frac{1}{1+e^{-x}}$\n",
        "\n",
        "![Logistic-Function.png](data:image/png;base64,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)\n"
      ]
    },
    {
      "cell_type": "code",
      "metadata": {
        "id": "IetV0vn76srC",
        "colab": {
          "base_uri": "https://localhost:8080/",
          "height": 1000
        },
        "outputId": "5447b8c7-15db-43bb-fc5f-3e428e0a8c67"
      },
      "source": [
        "import numpy as np\n",
        "import pandas as pd\n",
        "import matplotlib.pyplot as plt\n",
        "import seaborn as sns\n",
        "from sklearn.linear_model import LogisticRegression\n",
        "from sklearn.model_selection import train_test_split\n",
        "from sklearn import datasets\n",
        "from sklearn import metrics\n",
        "\n",
        "iris = datasets.load_iris()\n",
        "X = iris.data[:, :2]  # we only take the first two features.\n",
        "y = iris.target\n",
        "#print(X,y)\n",
        "\n",
        "X_train, X_test, y_train, y_test = train_test_split(X, y, test_size=0.30, random_state=10)\n",
        "#print(X_train.shape); print(X_test.shape)\n",
        "\n",
        "log_reg = LogisticRegression()\n",
        "log_reg.fit(X_train, y_train) # learn\n",
        "\n",
        "# Probabilities of the predicted output \n",
        "prob_output = log_reg.predict_proba(X_test)\n",
        "print(prob_output)\n",
        "\n",
        "y_pred = log_reg.predict(X_test)\n",
        "print(y_pred)\n",
        "\n",
        "rows = pd.DataFrame(log_reg.predict_proba(X_test), columns=log_reg.classes_)\n",
        "pred = pd.DataFrame(y_pred,columns=['predicted Class'])\n",
        "print(pd.merge(rows,pred, left_index=True, right_index=True))\n",
        "\n",
        "#print('Test accuracy of logistic regression: {:.2f}'.format(log_reg.score(X_test, y_test)))\n",
        "\n",
        "# IMPORTANT fo rall classification algorithms\n",
        "\n",
        "from sklearn.metrics import confusion_matrix\n",
        "cm = confusion_matrix(y_test, y_pred)\n",
        "#print(cm)\n",
        "\n",
        "# Heat map\n",
        "plt.figure(figsize=(9,9))\n",
        "sns.heatmap(cm, annot=True, fmt=\".3f\", linewidths=.5, square = True, cmap = 'Blues_r');\n",
        "plt.ylabel('Actual label');\n",
        "plt.xlabel('Predicted label');\n",
        "title = 'Accuracy Score: {0}'.format(log_reg.score(X_test, y_test))\n",
        "plt.title(title, size = 10);\n",
        "\n",
        "from sklearn.metrics import classification_report\n",
        "#print(classification_report(y_test, y_pred))"
      ],
      "execution_count": null,
      "outputs": [
        {
          "output_type": "stream",
          "text": [
            "[1 2 0 2 0 1 1 1 0 1 1 1 1 0 0 2 2 0 0 0 2 2 1 0 1 0 1 1 2 2 2 2 2 1 1 0 2\n",
            " 2 2 2 0 0 1 1 2]\n",
            "           0         1         2  Class value\n",
            "0   0.003067  0.594565  0.402368            1\n",
            "1   0.008550  0.465656  0.525794            2\n",
            "2   0.880626  0.063390  0.055983            0\n",
            "3   0.061445  0.458077  0.480478            2\n",
            "4   0.867435  0.096973  0.035592            0\n",
            "5   0.050624  0.860432  0.088944            1\n",
            "6   0.006095  0.545381  0.448524            1\n",
            "7   0.058816  0.610002  0.331183            1\n",
            "8   0.872661  0.087391  0.039949            0\n",
            "9   0.108974  0.582468  0.308558            1\n",
            "10  0.253930  0.475263  0.270806            1\n",
            "11  0.058816  0.610002  0.331183            1\n",
            "12  0.036167  0.768042  0.195790            1\n",
            "13  0.748567  0.202360  0.049072            0\n",
            "14  0.965483  0.020606  0.013911            0\n",
            "15  0.005561  0.287026  0.707413            2\n",
            "16  0.259238  0.312418  0.428344            2\n",
            "17  0.928671  0.063027  0.008303            0\n",
            "18  0.951793  0.029898  0.018309            0\n",
            "19  0.820132  0.134940  0.044928            0\n",
            "20  0.001853  0.219164  0.778983            2\n",
            "21  0.011895  0.440186  0.547919            2\n",
            "22  0.023228  0.494528  0.482244            1\n",
            "23  0.945580  0.041322  0.013098            0\n",
            "24  0.113463  0.486645  0.399893            1\n",
            "25  0.918801  0.065969  0.015230            0\n",
            "26  0.197782  0.488037  0.314181            1\n",
            "27  0.100646  0.670406  0.228948            1\n",
            "28  0.002945  0.329267  0.667788            2\n",
            "29  0.002066  0.058284  0.939650            2\n",
            "30  0.008247  0.360438  0.631315            2\n",
            "31  0.032241  0.466391  0.501368            2\n",
            "32  0.001277  0.199120  0.799604            2\n",
            "33  0.081536  0.574577  0.343887            1\n",
            "34  0.006095  0.545381  0.448524            1\n",
            "35  0.938449  0.051107  0.010443            0\n",
            "36  0.020338  0.249760  0.729902            2\n",
            "37  0.007209  0.226464  0.766328            2\n",
            "38  0.000057  0.166504  0.833439            2\n",
            "39  0.005286  0.244424  0.750289            2\n",
            "40  0.903595  0.068635  0.027770            0\n",
            "41  0.930554  0.048026  0.021421            0\n",
            "42  0.286489  0.565807  0.147704            1\n",
            "43  0.409980  0.548739  0.041281            1\n",
            "44  0.080939  0.328985  0.590077            2\n"
          ],
          "name": "stdout"
        },
        {
          "output_type": "display_data",
          "data": {
            "image/png": "[encoded data removed]",
            "text/plain": [
              "<Figure size 648x648 with 2 Axes>"
            ]
          },
          "metadata": {
            "tags": [],
            "needs_background": "light"
          }
        }
      ]
    },
    {
      "cell_type": "code",
      "metadata": {
        "colab": {
          "base_uri": "https://localhost:8080/"
        },
        "id": "sJR9pgSthoFN",
        "outputId": "c9071776-1a12-4e57-c86e-d8016cf813a4"
      },
      "source": [
        "# Accuracy\n",
        "print(round(34/45,2))\n",
        "\n",
        "# Precision\n"
      ],
      "execution_count": null,
      "outputs": [
        {
          "output_type": "stream",
          "text": [
            "0.76\n"
          ],
          "name": "stdout"
        }
      ]
    },
    {
      "cell_type": "code",
      "metadata": {
        "colab": {
          "base_uri": "https://localhost:8080/"
        },
        "id": "3Yktg-j1dQTB",
        "outputId": "37bc3539-aa83-46c0-c258-35556c4c71a6"
      },
      "source": [
        "import sklearn\n",
        "dir(sklearn.datasets)"
      ],
      "execution_count": null,
      "outputs": [
        {
          "output_type": "execute_result",
          "data": {
            "text/plain": [
              "['__all__',\n",
              " '__builtins__',\n",
              " '__cached__',\n",
              " '__doc__',\n",
              " '__file__',\n",
              " '__loader__',\n",
              " '__name__',\n",
              " '__package__',\n",
              " '__path__',\n",
              " '__spec__',\n",
              " '_base',\n",
              " '_california_housing',\n",
              " '_covtype',\n",
              " '_kddcup99',\n",
              " '_lfw',\n",
              " '_olivetti_faces',\n",
              " '_openml',\n",
              " '_rcv1',\n",
              " '_samples_generator',\n",
              " '_species_distributions',\n",
              " '_svmlight_format_fast',\n",
              " '_svmlight_format_io',\n",
              " '_twenty_newsgroups',\n",
              " 'clear_data_home',\n",
              " 'dump_svmlight_file',\n",
              " 'fetch_20newsgroups',\n",
              " 'fetch_20newsgroups_vectorized',\n",
              " 'fetch_california_housing',\n",
              " 'fetch_covtype',\n",
              " 'fetch_kddcup99',\n",
              " 'fetch_lfw_pairs',\n",
              " 'fetch_lfw_people',\n",
              " 'fetch_olivetti_faces',\n",
              " 'fetch_openml',\n",
              " 'fetch_rcv1',\n",
              " 'fetch_species_distributions',\n",
              " 'get_data_home',\n",
              " 'load_boston',\n",
              " 'load_breast_cancer',\n",
              " 'load_diabetes',\n",
              " 'load_digits',\n",
              " 'load_files',\n",
              " 'load_iris',\n",
              " 'load_linnerud',\n",
              " 'load_sample_image',\n",
              " 'load_sample_images',\n",
              " 'load_svmlight_file',\n",
              " 'load_svmlight_files',\n",
              " 'load_wine',\n",
              " 'make_biclusters',\n",
              " 'make_blobs',\n",
              " 'make_checkerboard',\n",
              " 'make_circles',\n",
              " 'make_classification',\n",
              " 'make_friedman1',\n",
              " 'make_friedman2',\n",
              " 'make_friedman3',\n",
              " 'make_gaussian_quantiles',\n",
              " 'make_hastie_10_2',\n",
              " 'make_low_rank_matrix',\n",
              " 'make_moons',\n",
              " 'make_multilabel_classification',\n",
              " 'make_regression',\n",
              " 'make_s_curve',\n",
              " 'make_sparse_coded_signal',\n",
              " 'make_sparse_spd_matrix',\n",
              " 'make_sparse_uncorrelated',\n",
              " 'make_spd_matrix',\n",
              " 'make_swiss_roll']"
            ]
          },
          "metadata": {
            "tags": []
          },
          "execution_count": 122
        }
      ]
    },
    {
      "cell_type": "markdown",
      "metadata": {
        "id": "NViXcyuy7wGf"
      },
      "source": [
        "#এক্সারসাইজ\n",
        "\n",
        "* Data source: `from sklearn.datasets import load_digits`\n",
        "`digits = load_digits()` [Multiclass]\n",
        "* Banking data set: https://raw.githubusercontent.com/madmashup/targeted-marketing-predictive-engine/master/banking.csv\n",
        "\n",
        "* Explore your own data set, self-made or scrapped\n",
        "* `candidates = {'gmat': [780,750,690,710,680,730,690,720,740,690,610,690,710,680,770,610,580,650,540,590,620,600,550,550,570,670,660,580,650,660,640,620,660,660,680,650,670,580,590,690], 'gpa': [4,3.9,3.3,3.7,3.9,3.7,2.3,3.3,3.3,1.7,2.7,3.7,3.7,3.3,3.3,3,2.7,3.7,2.7,2.3,3.3,2,2.3,2.7,3,3.3,3.7,2.3,3.7,3.3,3,2.7,4,3.3,3.3,2.3,2.7,3.3,1.7,3.7],'work_experience': [3,4,3,5,4,6,1,4,5,1,3,5,6,4,3,1,4,6,2,3,2,1,4,1,2,6,4,2,6,5,1,2,4,6,5,1,2,1,4,5], 'admitted': [1,1,0,1,0,1,0,1,1,0,0,1,1,0,1,0,0,1,0,0,1,0,0,0,0,1,1,0,1,1,0,0,1,1,1,0,0,0,0,1] }`\n",
        "* Reference: https://scikit-learn.org/stable/modules/generated/sklearn.linear_model.LogisticRegression.html\n"
      ]
    }
  ]
}